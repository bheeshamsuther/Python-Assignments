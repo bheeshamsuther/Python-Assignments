{
 "cells": [
  {
   "cell_type": "code",
   "execution_count": 1,
   "metadata": {},
   "outputs": [
    {
     "name": "stdout",
     "output_type": "stream",
     "text": [
      "\n",
      "            Twinkle, twinkle, little star,\n",
      "                    How I wonder what you are!\n",
      "                        Up above the world so high,\n",
      "                        Like a diamond in the sky.\n",
      "            Twinkle, twinkle, little star,\n",
      "                  How I wonder what you are\n"
     ]
    }
   ],
   "source": [
    "poem = \"\"\"\n",
    "            Twinkle, twinkle, little star,\n",
    "                    How I wonder what you are!\n",
    "                        Up above the world so high,\n",
    "                        Like a diamond in the sky.\n",
    "            Twinkle, twinkle, little star,\n",
    "                  How I wonder what you are\"\"\"\n",
    "\n",
    "print(poem)"
   ]
  },
  {
   "cell_type": "code",
   "execution_count": 2,
   "metadata": {},
   "outputs": [
    {
     "name": "stdout",
     "output_type": "stream",
     "text": [
      "python Version is : 3.7.4 (default, Aug  9 2019, 18:34:13) [MSC v.1915 64 bit (AMD64)]\n"
     ]
    }
   ],
   "source": [
    "import sys\n",
    "\n",
    "version = sys.version\n",
    "\n",
    "print('python Version is : ' + version)"
   ]
  },
  {
   "cell_type": "code",
   "execution_count": 3,
   "metadata": {},
   "outputs": [
    {
     "name": "stdout",
     "output_type": "stream",
     "text": [
      "Enter Radius:5\n",
      "Radius of 5.0 is 78.53975\n"
     ]
    }
   ],
   "source": [
    "radius = float(input('Enter Radius:'))\n",
    "area = 3.14159 *(radius**2)\n",
    "print ('Radius of '+str(radius)+ ' is '+str(area))\n"
   ]
  },
  {
   "cell_type": "code",
   "execution_count": 5,
   "metadata": {},
   "outputs": [
    {
     "name": "stdout",
     "output_type": "stream",
     "text": [
      "Enter Your First NameBheesham\n",
      "Enter Your Last NameKumar\n",
      "Bheesham Kumar\n"
     ]
    }
   ],
   "source": [
    "firstName = input('Enter Your First Name')\n",
    "lastName = input('Enter Your Last Name')\n",
    "\n",
    "print(firstName + ' ' + lastName )"
   ]
  },
  {
   "cell_type": "code",
   "execution_count": 6,
   "metadata": {
    "scrolled": false
   },
   "outputs": [
    {
     "name": "stdout",
     "output_type": "stream",
     "text": [
      "Enter your Fisrt Number 8\n",
      "Enter your Second Number 9\n",
      "sum of 8 & 9 is 17\n"
     ]
    }
   ],
   "source": [
    "num1 = int(input(\"Enter your Fisrt Number \")) \n",
    "num2 = int(input(\"Enter your Second Number \")) \n",
    "sum = num1 + num2 \n",
    "print(\"sum of \" + str(num1) + \" & \" +str(num2) +\" is \" + str(sum) )"
   ]
  },
  {
   "cell_type": "code",
   "execution_count": 7,
   "metadata": {},
   "outputs": [
    {
     "name": "stdout",
     "output_type": "stream",
     "text": [
      "2019-11-28 10:44:06.152944\n"
     ]
    }
   ],
   "source": [
    "import datetime\n",
    "date = datetime.datetime.now()\n",
    "print(date)"
   ]
  },
  {
   "cell_type": "code",
   "execution_count": null,
   "metadata": {},
   "outputs": [],
   "source": []
  }
 ],
 "metadata": {
  "kernelspec": {
   "display_name": "Python 3",
   "language": "python",
   "name": "python3"
  },
  "language_info": {
   "codemirror_mode": {
    "name": "ipython",
    "version": 3
   },
   "file_extension": ".py",
   "mimetype": "text/x-python",
   "name": "python",
   "nbconvert_exporter": "python",
   "pygments_lexer": "ipython3",
   "version": "3.7.4"
  }
 },
 "nbformat": 4,
 "nbformat_minor": 2
}
