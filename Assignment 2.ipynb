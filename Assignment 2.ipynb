{
 "cells": [
  {
   "cell_type": "code",
   "execution_count": 1,
   "metadata": {},
   "outputs": [
    {
     "name": "stdout",
     "output_type": "stream",
     "text": [
      "Enter Marks of English50\n",
      "Enter Marks of Urdu50\n",
      "Enter Marks of Math60\n",
      "Enter Marks of computer40\n",
      "Enter Marks of Pak Studies80\n",
      "56\n",
      "Your Grade is D\n"
     ]
    }
   ],
   "source": [
    "English = int(input(\"Enter Marks of English\"))\n",
    "Physics = int(input(\"Enter Marks of Urdu\"))\n",
    "Maths = int(input(\"Enter Marks of Math\"))\n",
    "Biology = int(input(\"Enter Marks of computer\"))\n",
    "PS = int(input(\"Enter Marks of Pak Studies\"))\n",
    "\n",
    "marks_obtained= English+Physics+Maths+Biology+PS\n",
    "total_marks = 500\n",
    "percentage = int(marks_obtained / total_marks*100)\n",
    "print(percentage)\n",
    "\n",
    "if percentage >= 90 and percentage <= 100:\n",
    "    print(\"Your Grade is A+\")\n",
    "elif percentage >=80 and percentage <=90:\n",
    "    print(\"Your Grade is A\")\n",
    "elif percentage >=70 and percentage <=80:\n",
    "    print(\"Your Grade is B\")\n",
    "elif percentage >=60 and percentage <=70:\n",
    "    print(\"Your Grade is C\")\n",
    "elif percentage >=50 and percentage <=60:\n",
    "    print(\"Your Grade is D\")\n",
    "elif percentage >=40 and percentage <=50:\n",
    "    print(\"Your Grade is F\")\n",
    "elif percentage >=0 and percentage <=40:\n",
    "    print(\"You Fail\")\n",
    "else:\n",
    "    print(\"You Enter Invalid Percentage\")"
   ]
  },
  {
   "cell_type": "code",
   "execution_count": 2,
   "metadata": {},
   "outputs": [
    {
     "name": "stdout",
     "output_type": "stream",
     "text": [
      "Enter A Number8\n",
      "You Enter an Even Number\n"
     ]
    }
   ],
   "source": [
    "num = int(input(\"Enter A Number\"))\n",
    "if num % 2 == 0:\n",
    "    print(\"You Enter an Even Number\")\n",
    "else:\n",
    "    print(\"You Enter an Odd Number\")"
   ]
  },
  {
   "cell_type": "code",
   "execution_count": 3,
   "metadata": {},
   "outputs": [
    {
     "name": "stdout",
     "output_type": "stream",
     "text": [
      "The Length of the List is 11\n"
     ]
    }
   ],
   "source": [
    "array = [1, 1, 2, 3, 5, 8, 13, 21, 34, 55, 89]\n",
    "print(\"The Length of the List is \"+str(len(array)))"
   ]
  },
  {
   "cell_type": "code",
   "execution_count": 4,
   "metadata": {},
   "outputs": [
    {
     "name": "stdout",
     "output_type": "stream",
     "text": [
      "Sum of List is 232\n"
     ]
    }
   ],
   "source": [
    "array = [1, 1, 2, 3, 5, 8, 13, 21, 34, 55, 89]\n",
    "sum = 0\n",
    "\n",
    "for i in array:\n",
    "    sum += i\n",
    "    \n",
    "print(\"Sum of List is \" +str(sum))"
   ]
  },
  {
   "cell_type": "code",
   "execution_count": 5,
   "metadata": {},
   "outputs": [
    {
     "name": "stdout",
     "output_type": "stream",
     "text": [
      "Largest number from a numeric list is 89\n"
     ]
    }
   ],
   "source": [
    "array = [1, 1, 2, 3, 5, 8, 13, 21, 34, 55, 89]\n",
    "print(\"Largest number from a numeric list is \" + str(max(array)))"
   ]
  },
  {
   "cell_type": "code",
   "execution_count": 6,
   "metadata": {},
   "outputs": [
    {
     "name": "stdout",
     "output_type": "stream",
     "text": [
      "1\n",
      "1\n",
      "2\n",
      "3\n",
      "5\n"
     ]
    }
   ],
   "source": [
    "arr = [1, 1, 2, 3, 5, 8, 13, 21, 34, 55, 89]\n",
    "for i in arr:\n",
    "    if i <= 5:\n",
    "        print(i)"
   ]
  },
  {
   "cell_type": "code",
   "execution_count": null,
   "metadata": {},
   "outputs": [],
   "source": []
  }
 ],
 "metadata": {
  "kernelspec": {
   "display_name": "Python 3",
   "language": "python",
   "name": "python3"
  },
  "language_info": {
   "codemirror_mode": {
    "name": "ipython",
    "version": 3
   },
   "file_extension": ".py",
   "mimetype": "text/x-python",
   "name": "python",
   "nbconvert_exporter": "python",
   "pygments_lexer": "ipython3",
   "version": "3.7.4"
  }
 },
 "nbformat": 4,
 "nbformat_minor": 2
}
